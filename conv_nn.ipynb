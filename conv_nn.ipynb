{
 "cells": [
  {
   "cell_type": "code",
   "execution_count": 2,
   "metadata": {},
   "outputs": [],
   "source": [
    "import matplotlib.pyplot as plt\n",
    "import numpy as np\n",
    "import scipy\n",
    "from IPython.display import Audio\n",
    "from tqdm import tqdm\n",
    "from pathlib import Path\n",
    "import random\n",
    "from enum import Enum\n",
    "from keras import Sequential \n",
    "from keras.layers import Conv1D, Conv2D, MaxPooling1D, MaxPooling2D, Flatten, Dense, Dropout, InputLayer\n",
    "import tensorflow as tf"
   ]
  },
  {
   "cell_type": "code",
   "execution_count": 15,
   "metadata": {},
   "outputs": [
    {
     "name": "stdout",
     "output_type": "stream",
     "text": [
      "test snare: 52, test kick: 52, train snare: 211, train kick: 211\n",
      "augmenting 422 samples\n",
      "augmenting 104 samples\n",
      "augmented train: 49796, augmented test: 1560\n"
     ]
    }
   ],
   "source": [
    "SAMPLE_RATE = 44100\n",
    "WINDOW_SIZE = 512\n",
    "\n",
    "# Load samples\n",
    "samples_path = Path('dataset/cut_filtered/')\n",
    "\n",
    "\n",
    "class BeatType(Enum):\n",
    "    KICK = 0\n",
    "    SNARE = 1\n",
    "\n",
    "def glob_samples(pattern):\n",
    "\tsamples = []\n",
    "\tfor sample_path in samples_path.glob(pattern):\n",
    "\t\tsample_rate, wave = scipy.io.wavfile.read(sample_path)\n",
    "\t\tif(sample_rate != SAMPLE_RATE):\n",
    "\t\t\twave = scipy.signal.resample(wave, int(len(wave) * SAMPLE_RATE / sample_rate))\n",
    "\t\t\n",
    "\t\tif len(wave.shape) > 1:\n",
    "\t\t\twave = wave.mean(axis=1)\n",
    "\n",
    "\t\tstart_index = np.argmax(wave > 0.005)\n",
    "\t\tsamples.append(wave[start_index:])\n",
    "\treturn samples\n",
    "\n",
    "kick_samples = glob_samples('kck*/*.wav')\n",
    "snare_samples = glob_samples('snr*/*.wav')\n",
    "\n",
    "N = min(len(kick_samples), len(snare_samples))\n",
    "split = int(N*0.8)\n",
    "\n",
    "random.shuffle(kick_samples)\n",
    "random.shuffle(snare_samples)\n",
    "\n",
    "kick_samples_train = kick_samples[:split]\n",
    "snare_samples_train = snare_samples[:split]\n",
    "\n",
    "kick_samples_test = kick_samples[split:N-1]\n",
    "snare_samples_test = snare_samples[split:N-1]\n",
    "\n",
    "\n",
    "print(f\"test snare: {len(snare_samples_test)}, test kick: {len(kick_samples_test)}, train snare: {len(snare_samples_train)}, train kick: {len(kick_samples_train)}\")\n",
    "\n",
    "\n",
    "train_dataset = [(wave, BeatType.KICK) for wave in kick_samples_train] + [(wave, BeatType.SNARE) for wave in snare_samples_train]\n",
    "test_dataset = [(wave, BeatType.KICK) for wave in kick_samples_test] + [(wave, BeatType.SNARE) for wave in snare_samples_test]\n",
    "\n",
    "def augment_amplitude(wave, r=(0.5, 1.5)):\n",
    "\twave = wave * random.uniform(*r) * random.choice([-1, 1])\n",
    "\treturn wave\n",
    "\n",
    "def augment_noise(wave, r=(0, 0.001)):\n",
    "\tnoise = np.random.normal(0, random.uniform(*r), len(wave))\n",
    "\twave = wave + noise\n",
    "\treturn wave\n",
    "\n",
    "def augment_pitch(wave, r=(-0.2, 0.2)):\n",
    "\ttarget_len = int(len(wave) * random.uniform(1+r[0], 1+r[1]))\n",
    "\tif target_len <= WINDOW_SIZE:\n",
    "\t\treturn wave\n",
    "\twave = scipy.signal.resample(wave, target_len)\n",
    "\treturn wave\n",
    "\n",
    "def augment_translate(wave, r=(0, 32)):\n",
    "\toffset_wave = wave[random.randint(*r):]\n",
    "\tif len(offset_wave) <= WINDOW_SIZE:\n",
    "\t\treturn wave\n",
    "\treturn offset_wave\n",
    "\n",
    "\n",
    "def augment(dataset, N=100):\n",
    "\taugmented_dataset = []\n",
    "\tprint(f\"augmenting {len(dataset)} samples\")\n",
    "\n",
    "\tfor _ in range(N):\n",
    "\t\tfor wave, label in dataset:\n",
    "\t\t\t# augmented_dataset.append((wave[:WINDOW_SIZE], label)) # keep the original\n",
    "\t\t\t# wave = augment_amplitude(wave) # 70 it/s\n",
    "\t\t\t# wave = augment_noise(wave) # 10 it/s\n",
    "\t\t\t# wave = augment_pitch(wave) # 3 it/s\n",
    "\t\t\twave = augment_translate(wave, r=(0, 300))\n",
    "\t\t\taugmented_dataset.append((wave[:WINDOW_SIZE], label))\n",
    "\n",
    "\treturn augmented_dataset\n",
    "\n",
    "\n",
    "train_dataset = augment(train_dataset, N=118)\n",
    "test_dataset = augment(test_dataset, N=15)\n",
    "\n",
    "random.shuffle(train_dataset)\n",
    "random.shuffle(test_dataset)\n",
    "\n",
    "print(f\"augmented train: {len(train_dataset)}, augmented test: {len(test_dataset)}\")\n",
    "\n",
    "def conv_preprocess(wave):\n",
    "\twave = wave.copy()\n",
    "\twave = wave[:WINDOW_SIZE]\n",
    "\tm = np.max(np.abs(wave))\n",
    "\twave /= m\n",
    "\n",
    "\twave *= random.choice([-1, 1])\n",
    "\treturn wave\n",
    "\n",
    "X_train = np.array([conv_preprocess(wave) for wave, label in train_dataset])\n",
    "y_train = np.array([label.value for freq, label in train_dataset])\n",
    "\n",
    "X_test = np.array([conv_preprocess(wave) for wave, label in test_dataset])\n",
    "y_test = np.array([label.value for freq, label in test_dataset])\n",
    "\n",
    "# reshape input for conv2d\n",
    "X_train = X_train.reshape(X_train.shape[0], 1, X_train.shape[1], 1)\n",
    "X_test = X_test.reshape(X_test.shape[0], 1, X_test.shape[1], 1)"
   ]
  },
  {
   "cell_type": "code",
   "execution_count": 16,
   "metadata": {},
   "outputs": [
    {
     "name": "stdout",
     "output_type": "stream",
     "text": [
      "Epoch 1/20\n",
      "1557/1557 [==============================] - 3s 2ms/step - loss: 0.0754 - accuracy: 0.9710 - val_loss: 0.0112 - val_accuracy: 0.9981\n",
      "Epoch 2/20\n",
      "1557/1557 [==============================] - 3s 2ms/step - loss: 0.0129 - accuracy: 0.9960 - val_loss: 0.0121 - val_accuracy: 0.9981\n",
      "Epoch 3/20\n",
      "1557/1557 [==============================] - 3s 2ms/step - loss: 0.0089 - accuracy: 0.9972 - val_loss: 0.0090 - val_accuracy: 0.9987\n",
      "Epoch 4/20\n",
      "1557/1557 [==============================] - 3s 2ms/step - loss: 0.0079 - accuracy: 0.9977 - val_loss: 0.0074 - val_accuracy: 0.9987\n",
      "Epoch 5/20\n",
      "1557/1557 [==============================] - 3s 2ms/step - loss: 0.0060 - accuracy: 0.9981 - val_loss: 0.0088 - val_accuracy: 0.9987\n",
      "Epoch 6/20\n",
      "1557/1557 [==============================] - 3s 2ms/step - loss: 0.0055 - accuracy: 0.9983 - val_loss: 0.0165 - val_accuracy: 0.9962\n",
      "Epoch 7/20\n",
      "1557/1557 [==============================] - 3s 2ms/step - loss: 0.0048 - accuracy: 0.9985 - val_loss: 0.0150 - val_accuracy: 0.9981\n",
      "Epoch 8/20\n",
      "1557/1557 [==============================] - 3s 2ms/step - loss: 0.0047 - accuracy: 0.9987 - val_loss: 0.0096 - val_accuracy: 0.9987\n",
      "Epoch 9/20\n",
      "1557/1557 [==============================] - 3s 2ms/step - loss: 0.0041 - accuracy: 0.9988 - val_loss: 0.0076 - val_accuracy: 0.9987\n",
      "Epoch 10/20\n",
      "1557/1557 [==============================] - 3s 2ms/step - loss: 0.0038 - accuracy: 0.9990 - val_loss: 0.0137 - val_accuracy: 0.9981\n",
      "Epoch 11/20\n",
      "1557/1557 [==============================] - 3s 2ms/step - loss: 0.0038 - accuracy: 0.9990 - val_loss: 0.0100 - val_accuracy: 0.9987\n",
      "Epoch 12/20\n",
      "1557/1557 [==============================] - 3s 2ms/step - loss: 0.0026 - accuracy: 0.9991 - val_loss: 0.0053 - val_accuracy: 0.9987\n",
      "Epoch 13/20\n",
      "1557/1557 [==============================] - 3s 2ms/step - loss: 0.0027 - accuracy: 0.9992 - val_loss: 0.0044 - val_accuracy: 0.9994\n",
      "Epoch 14/20\n",
      "1557/1557 [==============================] - 3s 2ms/step - loss: 0.0036 - accuracy: 0.9991 - val_loss: 0.0051 - val_accuracy: 0.9987\n",
      "Epoch 15/20\n",
      "1557/1557 [==============================] - 3s 2ms/step - loss: 0.0015 - accuracy: 0.9996 - val_loss: 0.0124 - val_accuracy: 0.9981\n",
      "Epoch 16/20\n",
      "1557/1557 [==============================] - 3s 2ms/step - loss: 0.0025 - accuracy: 0.9994 - val_loss: 3.9695e-04 - val_accuracy: 1.0000\n",
      "Epoch 17/20\n",
      "1557/1557 [==============================] - 3s 2ms/step - loss: 0.0023 - accuracy: 0.9995 - val_loss: 0.0052 - val_accuracy: 0.9987\n",
      "Epoch 18/20\n",
      "1557/1557 [==============================] - 3s 2ms/step - loss: 0.0020 - accuracy: 0.9995 - val_loss: 0.0085 - val_accuracy: 0.9981\n",
      "Epoch 19/20\n",
      "1557/1557 [==============================] - 3s 2ms/step - loss: 0.0023 - accuracy: 0.9994 - val_loss: 1.4873e-04 - val_accuracy: 1.0000\n",
      "Epoch 20/20\n",
      "1557/1557 [==============================] - 3s 2ms/step - loss: 0.0022 - accuracy: 0.9995 - val_loss: 0.0036 - val_accuracy: 0.9994\n"
     ]
    },
    {
     "data": {
      "text/plain": [
       "<keras.src.callbacks.History at 0x1e12badf910>"
      ]
     },
     "execution_count": 16,
     "metadata": {},
     "output_type": "execute_result"
    }
   ],
   "source": [
    "from keras import Sequential \n",
    "from keras.layers import Conv1D, Conv2D, MaxPooling1D, MaxPooling2D, Flatten, Dense, Dropout, InputLayer\n",
    "import tensorflow as tf\n",
    "\n",
    "model = Sequential()\n",
    "model.add(InputLayer(input_shape=(1, X_train.shape[2], 1)))\n",
    "model.add(Conv2D(4, (1, 3), activation='relu'))\n",
    "model.add(MaxPooling2D((1, 2)))\n",
    "model.add(Flatten())\n",
    "model.add(Dense(32, activation='relu'))\n",
    "model.add(Dropout(0.2))\n",
    "model.add(Dense(16, activation='relu'))\n",
    "model.add(Dropout(0.2))\n",
    "model.add(Dense(1, activation='sigmoid'))\n",
    "\n",
    "model.compile(optimizer='adam', loss='binary_crossentropy', metrics=['accuracy'])\n",
    "\n",
    "model.fit(X_train, y_train, epochs=20, batch_size=32, validation_data=(X_test, y_test))"
   ]
  },
  {
   "cell_type": "code",
   "execution_count": 14,
   "metadata": {},
   "outputs": [
    {
     "name": "stdout",
     "output_type": "stream",
     "text": [
      "49/49 [==============================] - 0s 652us/step\n"
     ]
    },
    {
     "data": {
      "text/plain": [
       "array([[4.5070895e-11],\n",
       "       [6.7900637e-06],\n",
       "       [1.0000000e+00],\n",
       "       ...,\n",
       "       [9.9999976e-01],\n",
       "       [9.9999952e-01],\n",
       "       [6.5466104e-09]], dtype=float32)"
      ]
     },
     "execution_count": 14,
     "metadata": {},
     "output_type": "execute_result"
    }
   ],
   "source": [
    "model.predict(X_test)"
   ]
  }
 ],
 "metadata": {
  "kernelspec": {
   "display_name": "Python 3",
   "language": "python",
   "name": "python3"
  },
  "language_info": {
   "codemirror_mode": {
    "name": "ipython",
    "version": 3
   },
   "file_extension": ".py",
   "mimetype": "text/x-python",
   "name": "python",
   "nbconvert_exporter": "python",
   "pygments_lexer": "ipython3",
   "version": "3.11.4"
  }
 },
 "nbformat": 4,
 "nbformat_minor": 2
}
